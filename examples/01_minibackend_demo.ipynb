{
 "cells": [
  {
   "cell_type": "markdown",
   "metadata": {},
   "source": [
    "# Minibackend example\n",
    "This notebook aims to illustrate how `openeo-pg-parser-networkx` can be used together with `openeo-processes-dask` to execute an OpenEO process graph locally.\n",
    "Note: This capability has also been called the \"mini-backend\" (see [GH issue with discussion](https://github.com/Open-EO/PSC/issues/16)).\n",
    "\n",
    "We'll demonstrate this capability through the following steps:\n",
    "- Load a process graph that represents a computation to be executed on an OpenEO backend and parse it to a traversible Python object using `openeo-pg-parser-networkx`\n",
    "- Traverse the process graph and maps the nodes to a nested Python function\n",
    "- Execute that function\n",
    "\n",
    "Let's go!"
   ]
  },
  {
   "cell_type": "markdown",
   "metadata": {},
   "source": [
    "## Process graph creation\n",
    "We'll keep it super simple and use a process graph that: \n",
    "1) loads a small part of the boa_sentinel_2 collection\n",
    "2) computes normalized difference vegetation index (NDVI) for each pixel\n",
    "3) multiplies each pixel with a scalar \n",
    "4) saves the result as a NetCDF\n",
    "\n",
    "Specifically, the OpenEO processes necessary to encode this computation are:\n",
    "1) `load_collection`\n",
    "2) `apply`\n",
    "    - subprocess: `ndvi`\n",
    "3) `apply`\n",
    "    - subprocess: `multiply`\n",
    "4) `save_result`"
   ]
  },
  {
   "cell_type": "code",
   "execution_count": 5,
   "metadata": {},
   "outputs": [
    {
     "name": "stderr",
     "output_type": "stream",
     "text": [
      "Deserialised process graph into nested structure\n"
     ]
    },
    {
     "name": "stdout",
     "output_type": "stream",
     "text": [
      "Walking node root-fd8ae3b4-8cb8-46c8-a5cd-c8ee552d1945\n",
      "Walking node apply2-fd8ae3b4-8cb8-46c8-a5cd-c8ee552d1945\n",
      "Walking node multiply1-f8644201-32a8-4283-8814-a577c4e28226\n",
      "Walking node apply1-fd8ae3b4-8cb8-46c8-a5cd-c8ee552d1945\n",
      "Walking node ndvi1-06a8d8af-296a-4960-a1cb-06dcd251b6bb\n",
      "Walking node loadcollection1-fd8ae3b4-8cb8-46c8-a5cd-c8ee552d1945\n"
     ]
    }
   ],
   "source": [
    "from openeo_pg_parser_networkx.graph import OpenEOProcessGraph\n",
    "\n",
    "NDVI_GRAPH_PATH = \"../tests/data/graphs/apply.json\"\n",
    "\n",
    "parsed_graph = OpenEOProcessGraph.from_file(NDVI_GRAPH_PATH)"
   ]
  },
  {
   "cell_type": "code",
   "execution_count": 17,
   "metadata": {},
   "outputs": [
    {
     "data": {
      "text/plain": [
       "<openeo_pg_parser_networkx.graph.OpenEOProcessGraph at 0x7f6766397fd0>"
      ]
     },
     "execution_count": 17,
     "metadata": {},
     "output_type": "execute_result"
    }
   ],
   "source": [
    "parsed_graph"
   ]
  },
  {
   "cell_type": "markdown",
   "metadata": {},
   "source": [
    "We can see that `OpenEOProcessGraph` has parsed the process graph - let's plot it!\n"
   ]
  },
  {
   "cell_type": "code",
   "execution_count": 6,
   "metadata": {},
   "outputs": [
    {
     "data": {
      "image/png": "[encoded data removed]",
      "text/plain": [
       "<Figure size 640x480 with 1 Axes>"
      ]
     },
     "metadata": {},
     "output_type": "display_data"
    }
   ],
   "source": [
    "parsed_graph.plot()"
   ]
  },
  {
   "cell_type": "markdown",
   "metadata": {},
   "source": [
    "The blue edges signify a `ResultReference` edge, where the result of the upstream process needs to be passed down to the downstream process as a parameter. \n",
    "E.g. in this process graph the results of `load_collection1` need to be passed on to `apply1`. \n",
    "The red edges indicate `Callback` edges. These occur when a \"parent\" process calls upon a \"child\" process, i.e. to apply a reducer over specific dimension of a datacube. \n",
    "In this case the parent process is `apply`, which applies the `ndvi` process over all the pixels.  "
   ]
  },
  {
   "cell_type": "markdown",
   "metadata": {},
   "source": [
    "## Execute the process graph"
   ]
  },
  {
   "cell_type": "markdown",
   "metadata": {},
   "source": [
    "To execute a process graph, `OpenEOProcessGraph` needs to know which Python code to call for each of the nodes in the graph. This information is provided by a \"process registry\", which is basically a dictionary that maps `process_id` to their actual Python implementations as `Callable`s."
   ]
  },
  {
   "cell_type": "markdown",
   "metadata": {},
   "source": [
    " When provided with a ProcessRegistry object (as defined in [openeo-processes-dask](https://github.com/Open-EO/openeo-processes-dask/blob/main/openeo_processes_dask/core.py)), `OpenEOProcessGraph` can translate the process graph into Python code using the `to_callable()` method."
   ]
  },
  {
   "cell_type": "code",
   "execution_count": null,
   "metadata": {},
   "outputs": [],
   "source": [
    "!pip install openeo_processes_dask"
   ]
  },
  {
   "cell_type": "code",
   "execution_count": 14,
   "metadata": {},
   "outputs": [],
   "source": [
    "from openeo_processes_dask.process_implementations import *  \n",
    "from openeo_processes_dask.core import ProcessRegistry\n",
    "\n",
    "process_registry = ProcessRegistry()\n",
    "\n",
    "process_registry[\"apply\"] = apply\n",
    "process_registry[\"ndvi\"] = ndvi\n",
    "process_registry[\"multiply\"] = multiply\n",
    "\n",
    "def load_collection(id, spatial_extent, temporal_extent, bands = [], properties = {}, **kwargs):\n",
    "    # No generic implementation available, so need to implement locally!\n",
    "    pass\n",
    "\n",
    "def save_result(data, format = 'netcdf', options = None):\n",
    "    # No generic implementation available, so need to implement locally!\n",
    "    pass\n",
    "\n",
    "process_registry[\"load_collection\"] = load_collection\n",
    "process_registry[\"save_result\"] = save_result"
   ]
  },
  {
   "cell_type": "code",
   "execution_count": 15,
   "metadata": {},
   "outputs": [],
   "source": [
    "pg_callable = parsed_graph.to_callable(process_registry=process_registry)"
   ]
  },
  {
   "cell_type": "code",
   "execution_count": null,
   "metadata": {},
   "outputs": [],
   "source": [
    "pg_callable()"
   ]
  },
  {
   "cell_type": "code",
   "execution_count": null,
   "metadata": {},
   "outputs": [],
   "source": []
  }
 ],
 "metadata": {
  "kernelspec": {
   "display_name": "Python 3.9.5 ('.venv': poetry)",
   "language": "python",
   "name": "python3"
  },
  "language_info": {
   "codemirror_mode": {
    "name": "ipython",
    "version": 3
   },
   "file_extension": ".py",
   "mimetype": "text/x-python",
   "name": "python",
   "nbconvert_exporter": "python",
   "pygments_lexer": "ipython3",
   "version": "3.9.5"
  },
  "orig_nbformat": 4,
  "vscode": {
   "interpreter": {
    "hash": "43bfd548961cb44d0ba5c288dd3238b5cc2de91951eb0a07084fe475948c38b4"
   }
  }
 },
 "nbformat": 4,
 "nbformat_minor": 2
}
